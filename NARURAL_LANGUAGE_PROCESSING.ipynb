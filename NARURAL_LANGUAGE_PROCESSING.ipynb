{
  "nbformat": 4,
  "nbformat_minor": 0,
  "metadata": {
    "colab": {
      "provenance": [],
      "authorship_tag": "ABX9TyNnAt8XDdp2ymrgF2vvQmdz",
      "include_colab_link": true
    },
    "kernelspec": {
      "name": "python3",
      "display_name": "Python 3"
    },
    "language_info": {
      "name": "python"
    }
  },
  "cells": [
    {
      "cell_type": "markdown",
      "metadata": {
        "id": "view-in-github",
        "colab_type": "text"
      },
      "source": [
        "<a href=\"https://colab.research.google.com/github/vrotich-github/vrotich-github/blob/main/NARURAL_LANGUAGE_PROCESSING.ipynb\" target=\"_parent\"><img src=\"https://colab.research.google.com/assets/colab-badge.svg\" alt=\"Open In Colab\"/></a>"
      ]
    },
    {
      "cell_type": "markdown",
      "source": [
        "VIOLA JERONO ROTICH\n",
        "\n",
        "NARURAL LANGUAGE PROCESSING"
      ],
      "metadata": {
        "id": "u0QVTi9QiuCM"
      }
    },
    {
      "cell_type": "code",
      "source": [
        "import numpy as np\n",
        "import pandas as pd\n",
        "import re\n",
        "import nltk\n",
        "nltk.download('stopwords')\n",
        "from nltk import word_tokenize\n",
        "\n",
        "import re\n",
        "import string\n",
        "from nltk.corpus import stopwords\n"
      ],
      "metadata": {
        "colab": {
          "base_uri": "https://localhost:8080/"
        },
        "id": "2jSBwNrnzJtj",
        "outputId": "d6bfbdd1-b8d6-413b-ac95-0129615f4c70"
      },
      "execution_count": null,
      "outputs": [
        {
          "output_type": "stream",
          "name": "stderr",
          "text": [
            "[nltk_data] Downloading package stopwords to /root/nltk_data...\n",
            "[nltk_data]   Package stopwords is already up-to-date!\n"
          ]
        }
      ]
    },
    {
      "cell_type": "code",
      "source": [
        "import PyPDF2\n",
        "from PyPDF2 import PdfReader\n",
        "mypdf = open(r\"/content/AT-THE-PRESS-CONFERENCE-WITH-THE-CHANCELLOR-OF-GERMANY-OLAF-SCHOLZ (1).pdf\", mode='rb')\n"
      ],
      "metadata": {
        "id": "8JhbV4D4z_2X"
      },
      "execution_count": null,
      "outputs": []
    },
    {
      "cell_type": "code",
      "source": [
        "pdf_document=PyPDF2.PdfReader(mypdf)\n",
        "#get number of panges on pdf\n",
        "len(pdf_document.pages)"
      ],
      "metadata": {
        "colab": {
          "base_uri": "https://localhost:8080/"
        },
        "id": "zeUPa0GV016O",
        "outputId": "0ef73db5-c84f-4fb3-df41-c857775fce85"
      },
      "execution_count": null,
      "outputs": [
        {
          "output_type": "execute_result",
          "data": {
            "text/plain": [
              "7"
            ]
          },
          "metadata": {},
          "execution_count": 75
        }
      ]
    },
    {
      "cell_type": "code",
      "source": [
        "#reading the first pange of the pdf document\n",
        "first_page=pdf_document.pages[1]\n",
        "Text=first_page.extract_text()\n",
        "Text"
      ],
      "metadata": {
        "colab": {
          "base_uri": "https://localhost:8080/",
          "height": 157
        },
        "id": "tOxb8NIE06tk",
        "outputId": "b763a7cf-8421-4708-a3c2-0dd469aafb51"
      },
      "execution_count": null,
      "outputs": [
        {
          "output_type": "execute_result",
          "data": {
            "text/plain": [
              "'PRESS STATEMENT BY H.E. HON. WILLIAM RUTO, CGH., PRESIDENT OF THE REPUBLIC OF KENYA AND COMMANDER -IN-CHIEF OF THE DEFENCE FORCES AT THE PRESS \\nCONFERENCE WITH THE CHANCELLOR OF GERMANY OLAF SCHOLZ  \\n \\n2 1. On behalf of the Government and the people of Kenya, I \\nam delighted and deeply honoured to receive and welcome \\nH.E. Olaf Scholz, Chancellor of the Federal Republic of \\nGermany, to the Republic of Kenya.  \\n \\n2. Just over a month ago, the Chancellor warmly welcome d \\nme to Berlin on my inaugural visit to Germany as President. \\nToday, it is my great privilege to reciprocate by warmly \\nwelcoming His Excellency the Chancellor. Karibu. Vilkomen.  \\n \\n3. The rich historical ties between Kenya and Germany date \\nback to 1963 when, up on our attainment of independence, \\nGermany became the first State to recognise our newly -\\nborn nation. That marked the beginning of a deep \\nfriendship that has grown stronger every passing year. Our \\ncommon values and cooperation in diverse spheres of \\nendeavo r include energy, climate action, agriculture, \\nhealth, trade and investment, and education.  \\n \\n4. My recent visit to Berlin in March, and the Chancellor’s \\nreturn visit today, have taken place at a time when our two \\ncountries are commemorating 60 years since the  \\nestablishment of diplomatic relations.  \\n \\n5. The Chancellor and I have had fruitful discussions and we \\nhave exchanged views on the strategies and pathways \\nthrough which we can deepen the excellent relations \\nbetween our countries. I briefed the Chancellor of t he \\ngovernment’s progress in improving the business \\nenvironment, which has made Kenya significantly more \\nattractive to German investors.  \\n \\n6. I encourage the business delegation, which has \\naccompanied the Chancellor, to explore and exploit the \\nhuge untapped in vestment opportunities in Kenya. I also \\ninvite them to take advantage of Kenya and Nairobi’s '"
            ],
            "application/vnd.google.colaboratory.intrinsic+json": {
              "type": "string"
            }
          },
          "metadata": {},
          "execution_count": 76
        }
      ]
    },
    {
      "cell_type": "markdown",
      "source": [
        "# data cleaning\n",
        "Perform preprocessing\n",
        "Some of the preprocessing steps are:\n",
        "Removing punctuations like . , ! $( ) * % @\n",
        "Removing Stop words.\n",
        "remove bullets and numbering\n",
        "remove extra whitespace\n",
        "remove special characters\n",
        "emove punctuations\n",
        "Lower casing.\n",
        "tokenize words\n",
        "Stemming.\n",
        "Lemmatization."
      ],
      "metadata": {
        "id": "y-tOQhkb1N12"
      }
    },
    {
      "cell_type": "code",
      "source": [
        "import re\n",
        "import string\n",
        "import spacy\n",
        "from nltk.corpus import stopwords\n",
        "from nltk.stem import PorterStemmer, WordNetLemmatizer\n",
        "from nltk.tokenize import word_tokenize\n",
        "\n",
        "# Load the English language model in SpaCy\n",
        "nlp = spacy.load('en_core_web_sm')\n",
        "text=Text\n",
        "# Custom preprocessing functions\n",
        "def remove_punctuation(text):\n",
        "    translator = str.maketrans('', '', string.punctuation)\n",
        "    return text.translate(translator)\n",
        "\n",
        "def remove_stopwords(text):\n",
        "    stop_words = set(stopwords.words('english'))\n",
        "    tokens = word_tokenize(text)\n",
        "    filtered_tokens = [word for word in tokens if word.lower() not in stop_words]\n",
        "    return ' '.join(filtered_tokens)\n",
        "\n",
        "def remove_bullets_numbering(text):\n",
        "    return re.sub(r'^\\d+[.]|\\s\\d+[.]|\\d+[.]', '', text)\n",
        "\n",
        "def remove_extra_whitespace(text):\n",
        "    return re.sub(r'\\s+', ' ', text).strip()\n",
        "\n",
        "def remove_special_characters(text):\n",
        "    return re.sub(r'[^a-zA-Z0-9\\s]', '', text)\n",
        "\n",
        "def lowercase(text):\n",
        "    return text.lower()\n",
        "\n",
        "def tokenize_words(text):\n",
        "    return ' '.join(word_tokenize(text))\n",
        "\n",
        "def stemming(text):\n",
        "    stemmer = PorterStemmer()\n",
        "    tokens = word_tokenize(text)\n",
        "    stemmed_tokens = [stemmer.stem(token) for token in tokens]\n",
        "    return ' '.join(stemmed_tokens)\n",
        "\n",
        "def lemmatization(text):\n",
        "    doc = nlp(text)\n",
        "    lemmatized_tokens = [token.lemma_ for token in doc]\n",
        "    return ' '.join(lemmatized_tokens)\n",
        "\n",
        "# Preprocess text using the defined functions\n",
        "preprocess_functions = [\n",
        "    remove_punctuation,\n",
        "    remove_stopwords,\n",
        "    remove_bullets_numbering,\n",
        "    remove_extra_whitespace,\n",
        "    remove_special_characters,\n",
        "    lowercase,\n",
        "    tokenize_words,\n",
        "    stemming,\n",
        "    lemmatization\n",
        "]\n",
        "\n",
        "preprocessed_text = text\n",
        "\n",
        "for preprocess_func in preprocess_functions:\n",
        "    preprocessed_text = preprocess_func(preprocessed_text)\n",
        "    print(f\"Preprocessed Text (Step: {preprocess_func.__name__}):\")\n",
        "    print(preprocessed_text)\n",
        "    print()\n",
        "\n",
        "print(\"Final Preprocessed Text:\")\n",
        "print(preprocessed_text)\n"
      ],
      "metadata": {
        "colab": {
          "base_uri": "https://localhost:8080/"
        },
        "id": "jKVLWaa6P71a",
        "outputId": "e448b3a3-4f87-42ce-96c8-661331ffefb2"
      },
      "execution_count": null,
      "outputs": [
        {
          "output_type": "stream",
          "name": "stdout",
          "text": [
            "Preprocessed Text (Step: remove_punctuation):\n",
            "PRESS STATEMENT BY HE HON WILLIAM RUTO CGH PRESIDENT OF THE REPUBLIC OF KENYA AND COMMANDER INCHIEF OF THE DEFENCE FORCES AT THE PRESS \n",
            "CONFERENCE WITH THE CHANCELLOR OF GERMANY OLAF SCHOLZ  \n",
            " \n",
            "2 1 On behalf of the Government and the people of Kenya I \n",
            "am delighted and deeply honoured to receive and welcome \n",
            "HE Olaf Scholz Chancellor of the Federal Republic of \n",
            "Germany to the Republic of Kenya  \n",
            " \n",
            "2 Just over a month ago the Chancellor warmly welcome d \n",
            "me to Berlin on my inaugural visit to Germany as President \n",
            "Today it is my great privilege to reciprocate by warmly \n",
            "welcoming His Excellency the Chancellor Karibu Vilkomen  \n",
            " \n",
            "3 The rich historical ties between Kenya and Germany date \n",
            "back to 1963 when up on our attainment of independence \n",
            "Germany became the first State to recognise our newly \n",
            "born nation That marked the beginning of a deep \n",
            "friendship that has grown stronger every passing year Our \n",
            "common values and cooperation in diverse spheres of \n",
            "endeavo r include energy climate action agriculture \n",
            "health trade and investment and education  \n",
            " \n",
            "4 My recent visit to Berlin in March and the Chancellor’s \n",
            "return visit today have taken place at a time when our two \n",
            "countries are commemorating 60 years since the  \n",
            "establishment of diplomatic relations  \n",
            " \n",
            "5 The Chancellor and I have had fruitful discussions and we \n",
            "have exchanged views on the strategies and pathways \n",
            "through which we can deepen the excellent relations \n",
            "between our countries I briefed the Chancellor of t he \n",
            "government’s progress in improving the business \n",
            "environment which has made Kenya significantly more \n",
            "attractive to German investors  \n",
            " \n",
            "6 I encourage the business delegation which has \n",
            "accompanied the Chancellor to explore and exploit the \n",
            "huge untapped in vestment opportunities in Kenya I also \n",
            "invite them to take advantage of Kenya and Nairobi’s \n",
            "\n",
            "Preprocessed Text (Step: remove_stopwords):\n",
            "PRESS STATEMENT HON WILLIAM RUTO CGH PRESIDENT REPUBLIC KENYA COMMANDER INCHIEF DEFENCE FORCES PRESS CONFERENCE CHANCELLOR GERMANY OLAF SCHOLZ 2 1 behalf Government people Kenya delighted deeply honoured receive welcome Olaf Scholz Chancellor Federal Republic Germany Republic Kenya 2 month ago Chancellor warmly welcome Berlin inaugural visit Germany President Today great privilege reciprocate warmly welcoming Excellency Chancellor Karibu Vilkomen 3 rich historical ties Kenya Germany date back 1963 attainment independence Germany became first State recognise newly born nation marked beginning deep friendship grown stronger every passing year common values cooperation diverse spheres endeavo r include energy climate action agriculture health trade investment education 4 recent visit Berlin March Chancellor ’ return visit today taken place time two countries commemorating 60 years since establishment diplomatic relations 5 Chancellor fruitful discussions exchanged views strategies pathways deepen excellent relations countries briefed Chancellor government ’ progress improving business environment made Kenya significantly attractive German investors 6 encourage business delegation accompanied Chancellor explore exploit huge untapped vestment opportunities Kenya also invite take advantage Kenya Nairobi ’\n",
            "\n",
            "Preprocessed Text (Step: remove_bullets_numbering):\n",
            "PRESS STATEMENT HON WILLIAM RUTO CGH PRESIDENT REPUBLIC KENYA COMMANDER INCHIEF DEFENCE FORCES PRESS CONFERENCE CHANCELLOR GERMANY OLAF SCHOLZ 2 1 behalf Government people Kenya delighted deeply honoured receive welcome Olaf Scholz Chancellor Federal Republic Germany Republic Kenya 2 month ago Chancellor warmly welcome Berlin inaugural visit Germany President Today great privilege reciprocate warmly welcoming Excellency Chancellor Karibu Vilkomen 3 rich historical ties Kenya Germany date back 1963 attainment independence Germany became first State recognise newly born nation marked beginning deep friendship grown stronger every passing year common values cooperation diverse spheres endeavo r include energy climate action agriculture health trade investment education 4 recent visit Berlin March Chancellor ’ return visit today taken place time two countries commemorating 60 years since establishment diplomatic relations 5 Chancellor fruitful discussions exchanged views strategies pathways deepen excellent relations countries briefed Chancellor government ’ progress improving business environment made Kenya significantly attractive German investors 6 encourage business delegation accompanied Chancellor explore exploit huge untapped vestment opportunities Kenya also invite take advantage Kenya Nairobi ’\n",
            "\n",
            "Preprocessed Text (Step: remove_extra_whitespace):\n",
            "PRESS STATEMENT HON WILLIAM RUTO CGH PRESIDENT REPUBLIC KENYA COMMANDER INCHIEF DEFENCE FORCES PRESS CONFERENCE CHANCELLOR GERMANY OLAF SCHOLZ 2 1 behalf Government people Kenya delighted deeply honoured receive welcome Olaf Scholz Chancellor Federal Republic Germany Republic Kenya 2 month ago Chancellor warmly welcome Berlin inaugural visit Germany President Today great privilege reciprocate warmly welcoming Excellency Chancellor Karibu Vilkomen 3 rich historical ties Kenya Germany date back 1963 attainment independence Germany became first State recognise newly born nation marked beginning deep friendship grown stronger every passing year common values cooperation diverse spheres endeavo r include energy climate action agriculture health trade investment education 4 recent visit Berlin March Chancellor ’ return visit today taken place time two countries commemorating 60 years since establishment diplomatic relations 5 Chancellor fruitful discussions exchanged views strategies pathways deepen excellent relations countries briefed Chancellor government ’ progress improving business environment made Kenya significantly attractive German investors 6 encourage business delegation accompanied Chancellor explore exploit huge untapped vestment opportunities Kenya also invite take advantage Kenya Nairobi ’\n",
            "\n",
            "Preprocessed Text (Step: remove_special_characters):\n",
            "PRESS STATEMENT HON WILLIAM RUTO CGH PRESIDENT REPUBLIC KENYA COMMANDER INCHIEF DEFENCE FORCES PRESS CONFERENCE CHANCELLOR GERMANY OLAF SCHOLZ 2 1 behalf Government people Kenya delighted deeply honoured receive welcome Olaf Scholz Chancellor Federal Republic Germany Republic Kenya 2 month ago Chancellor warmly welcome Berlin inaugural visit Germany President Today great privilege reciprocate warmly welcoming Excellency Chancellor Karibu Vilkomen 3 rich historical ties Kenya Germany date back 1963 attainment independence Germany became first State recognise newly born nation marked beginning deep friendship grown stronger every passing year common values cooperation diverse spheres endeavo r include energy climate action agriculture health trade investment education 4 recent visit Berlin March Chancellor  return visit today taken place time two countries commemorating 60 years since establishment diplomatic relations 5 Chancellor fruitful discussions exchanged views strategies pathways deepen excellent relations countries briefed Chancellor government  progress improving business environment made Kenya significantly attractive German investors 6 encourage business delegation accompanied Chancellor explore exploit huge untapped vestment opportunities Kenya also invite take advantage Kenya Nairobi \n",
            "\n",
            "Preprocessed Text (Step: lowercase):\n",
            "press statement hon william ruto cgh president republic kenya commander inchief defence forces press conference chancellor germany olaf scholz 2 1 behalf government people kenya delighted deeply honoured receive welcome olaf scholz chancellor federal republic germany republic kenya 2 month ago chancellor warmly welcome berlin inaugural visit germany president today great privilege reciprocate warmly welcoming excellency chancellor karibu vilkomen 3 rich historical ties kenya germany date back 1963 attainment independence germany became first state recognise newly born nation marked beginning deep friendship grown stronger every passing year common values cooperation diverse spheres endeavo r include energy climate action agriculture health trade investment education 4 recent visit berlin march chancellor  return visit today taken place time two countries commemorating 60 years since establishment diplomatic relations 5 chancellor fruitful discussions exchanged views strategies pathways deepen excellent relations countries briefed chancellor government  progress improving business environment made kenya significantly attractive german investors 6 encourage business delegation accompanied chancellor explore exploit huge untapped vestment opportunities kenya also invite take advantage kenya nairobi \n",
            "\n",
            "Preprocessed Text (Step: tokenize_words):\n",
            "press statement hon william ruto cgh president republic kenya commander inchief defence forces press conference chancellor germany olaf scholz 2 1 behalf government people kenya delighted deeply honoured receive welcome olaf scholz chancellor federal republic germany republic kenya 2 month ago chancellor warmly welcome berlin inaugural visit germany president today great privilege reciprocate warmly welcoming excellency chancellor karibu vilkomen 3 rich historical ties kenya germany date back 1963 attainment independence germany became first state recognise newly born nation marked beginning deep friendship grown stronger every passing year common values cooperation diverse spheres endeavo r include energy climate action agriculture health trade investment education 4 recent visit berlin march chancellor return visit today taken place time two countries commemorating 60 years since establishment diplomatic relations 5 chancellor fruitful discussions exchanged views strategies pathways deepen excellent relations countries briefed chancellor government progress improving business environment made kenya significantly attractive german investors 6 encourage business delegation accompanied chancellor explore exploit huge untapped vestment opportunities kenya also invite take advantage kenya nairobi\n",
            "\n",
            "Preprocessed Text (Step: stemming):\n",
            "press statement hon william ruto cgh presid republ kenya command inchief defenc forc press confer chancellor germani olaf scholz 2 1 behalf govern peopl kenya delight deepli honour receiv welcom olaf scholz chancellor feder republ germani republ kenya 2 month ago chancellor warmli welcom berlin inaugur visit germani presid today great privileg reciproc warmli welcom excel chancellor karibu vilkomen 3 rich histor tie kenya germani date back 1963 attain independ germani becam first state recognis newli born nation mark begin deep friendship grown stronger everi pass year common valu cooper divers sphere endeavo r includ energi climat action agricultur health trade invest educ 4 recent visit berlin march chancellor return visit today taken place time two countri commemor 60 year sinc establish diplomat relat 5 chancellor fruit discuss exchang view strategi pathway deepen excel relat countri brief chancellor govern progress improv busi environ made kenya significantli attract german investor 6 encourag busi deleg accompani chancellor explor exploit huge untap vestment opportun kenya also invit take advantag kenya nairobi\n",
            "\n",
            "Preprocessed Text (Step: lemmatization):\n",
            "press statement hon william ruto cgh presid republ kenya command inchief defenc forc press confer chancellor germani olaf scholz 2 1 behalf govern peopl kenya delight deepli honour receiv welcom olaf scholz chancellor feder republ germani republ kenya 2 month ago chancellor warmli welcom berlin inaugur visit germani presid today great privileg reciproc warmli welcom excel chancellor karibu vilkoman 3 rich histor tie kenya germani date back 1963 attain independ germani becam first state recognis newli bear nation mark begin deep friendship grow strong everi pass year common valu cooper diver sphere endeavo r includ energi climat action agricultur health trade invest educ 4 recent visit berlin march chancellor return visit today take place time two countri commemor 60 year sinc establish diplomat relat 5 chancellor fruit discuss exchang view strategi pathway deepen excel relat countri brief chancellor govern progress improv busi environ make kenya significantli attract german investor 6 encourag busi deleg accompani chancellor explor exploit huge untap vestment opportun kenya also invit take advantag kenya nairobi\n",
            "\n",
            "Final Preprocessed Text:\n",
            "press statement hon william ruto cgh presid republ kenya command inchief defenc forc press confer chancellor germani olaf scholz 2 1 behalf govern peopl kenya delight deepli honour receiv welcom olaf scholz chancellor feder republ germani republ kenya 2 month ago chancellor warmli welcom berlin inaugur visit germani presid today great privileg reciproc warmli welcom excel chancellor karibu vilkoman 3 rich histor tie kenya germani date back 1963 attain independ germani becam first state recognis newli bear nation mark begin deep friendship grow strong everi pass year common valu cooper diver sphere endeavo r includ energi climat action agricultur health trade invest educ 4 recent visit berlin march chancellor return visit today take place time two countri commemor 60 year sinc establish diplomat relat 5 chancellor fruit discuss exchang view strategi pathway deepen excel relat countri brief chancellor govern progress improv busi environ make kenya significantli attract german investor 6 encourag busi deleg accompani chancellor explor exploit huge untap vestment opportun kenya also invit take advantag kenya nairobi\n"
          ]
        }
      ]
    },
    {
      "cell_type": "code",
      "source": [],
      "metadata": {
        "id": "GCyHdFVVh88f"
      },
      "execution_count": null,
      "outputs": []
    },
    {
      "cell_type": "code",
      "source": [
        "# Tokenization and part-of-speech tagging\n",
        "doc = nlp(text)\n",
        "pos_tags = pd.DataFrame([(token.text, token.pos_) for token in doc], columns=['Token', 'POS'])\n",
        "print(\"Part-of-Speech Tags:\")\n",
        "print(pos_tags)"
      ],
      "metadata": {
        "colab": {
          "base_uri": "https://localhost:8080/"
        },
        "id": "VECPzPEIVTQd",
        "outputId": "5ee2d7a5-4fbd-454b-b52e-ea4b22afab5a"
      },
      "execution_count": null,
      "outputs": [
        {
          "output_type": "stream",
          "name": "stdout",
          "text": [
            "Part-of-Speech Tags:\n",
            "         Token    POS\n",
            "0        PRESS  PROPN\n",
            "1    STATEMENT  PROPN\n",
            "2           BY  PROPN\n",
            "3         H.E.  PROPN\n",
            "4          HON  PROPN\n",
            "..         ...    ...\n",
            "370         of    ADP\n",
            "371      Kenya  PROPN\n",
            "372        and  CCONJ\n",
            "373    Nairobi  PROPN\n",
            "374         ’s   PART\n",
            "\n",
            "[375 rows x 2 columns]\n"
          ]
        }
      ]
    },
    {
      "cell_type": "code",
      "source": [
        "# Named Entity Recognition\n",
        "ner = pd.DataFrame([(ent.text, ent.label_) for ent in doc.ents], columns=['Entity', 'Label'])\n",
        "print(\"\\nNamed Entities:\")\n",
        "print(ner)"
      ],
      "metadata": {
        "colab": {
          "base_uri": "https://localhost:8080/"
        },
        "id": "Oww_J0f7VYhM",
        "outputId": "31ee3eda-5d11-4292-b160-c6c89a82501e"
      },
      "execution_count": null,
      "outputs": [
        {
          "output_type": "stream",
          "name": "stdout",
          "text": [
            "\n",
            "Named Entities:\n",
            "                        Entity     Label\n",
            "0                     H.E. HON    PERSON\n",
            "1                          CGH       ORG\n",
            "2                        KENYA       ORG\n",
            "3                          2 1      DATE\n",
            "4                   Government       ORG\n",
            "5                        Kenya       GPE\n",
            "6             H.E. Olaf Scholz       ORG\n",
            "7   the Federal Republic of \\n       GPE\n",
            "8                      Germany       GPE\n",
            "9        the Republic of Kenya       GPE\n",
            "10                           2  CARDINAL\n",
            "11       Just over a month ago      DATE\n",
            "12                      Berlin       GPE\n",
            "13                     Germany       GPE\n",
            "14                       Today      DATE\n",
            "15                      Karibu       GPE\n",
            "16                    Vilkomen       GPE\n",
            "17                           3  CARDINAL\n",
            "18                       Kenya       GPE\n",
            "19                     Germany       GPE\n",
            "20                        1963      DATE\n",
            "21                     Germany       GPE\n",
            "22                       State       ORG\n",
            "23                           4  CARDINAL\n",
            "24                      Berlin       GPE\n",
            "25                       March      DATE\n",
            "26                       today      DATE\n",
            "27                         two  CARDINAL\n",
            "28                    60 years      DATE\n",
            "29                       Kenya       GPE\n",
            "30                      German      NORP\n",
            "31                           6  CARDINAL\n",
            "32                       Kenya       GPE\n",
            "33                       Kenya       GPE\n",
            "34                     Nairobi       GPE\n"
          ]
        }
      ]
    }
  ]
}